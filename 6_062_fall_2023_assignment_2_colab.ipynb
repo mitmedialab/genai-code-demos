{
  "nbformat": 4,
  "nbformat_minor": 0,
  "metadata": {
    "colab": {
      "provenance": []
    },
    "kernelspec": {
      "name": "python3",
      "display_name": "Python 3"
    },
    "language_info": {
      "name": "python"
    }
  },
  "cells": [
    {
      "cell_type": "markdown",
      "source": [
        "#Example project (starter code)\n",
        "\n",
        "## Create a co-writing tool that helps writers with the following teaching strategies:\n",
        "\n",
        "*  Collaborative construction\n",
        "*  Providing feedback\n",
        "\n",
        "## It aims to foster the following in learners:\n",
        "\n",
        "* Creative writing skills\n",
        "\n",
        "## Some features that generative AI can support could include:\n",
        "\n",
        "*  Fixing grammar\n",
        "*  Next line\n",
        "*  Different framing\n",
        "*  Different direction  \n",
        "*  Visualize the story"
      ],
      "metadata": {
        "id": "chBsWA-FS9_X"
      }
    },
    {
      "cell_type": "markdown",
      "source": [
        "Let's first create a field for the user to enter their story"
      ],
      "metadata": {
        "id": "nFsrXSC7TU2s"
      }
    },
    {
      "cell_type": "code",
      "execution_count": null,
      "metadata": {
        "id": "OXslKCQFRXqd"
      },
      "outputs": [],
      "source": [
        "#@title String fields\n",
        "\n",
        "yourStory = 'A chicken are crossing at the roadd. ' #@param {type:\"string\"}"
      ]
    },
    {
      "cell_type": "markdown",
      "source": [
        "Now let's give our story collaborator tool different features"
      ],
      "metadata": {
        "id": "wyIoYHqrTiXT"
      }
    },
    {
      "cell_type": "code",
      "source": [
        "#@title String fields\n",
        "writingFeature = 'grammar' #@param ['grammar', 'nextline', 'framing', 'direction', 'visualize']"
      ],
      "metadata": {
        "id": "b0O65g0QUJmb"
      },
      "execution_count": null,
      "outputs": []
    },
    {
      "cell_type": "markdown",
      "source": [
        "We will now empower our chatbot to be able to provide this writing support. We will use GPT-4 to do that. First, let's install and import the OpanAI API. We are also displaying some images, so we will also install pillow.\n",
        "\n"
      ],
      "metadata": {
        "id": "woqgN1yzUOqV"
      }
    },
    {
      "cell_type": "code",
      "source": [
        "# only required once.\n",
        "#importing openai for generating text and images\n",
        "!pip install openai\n",
        "#importing pillow for displaying images\n",
        "!pip install pillow"
      ],
      "metadata": {
        "colab": {
          "base_uri": "https://localhost:8080/"
        },
        "id": "ezsjntFJ6urh",
        "outputId": "ab9057dc-69e1-4282-b914-b8bf3cfe5bb9"
      },
      "execution_count": null,
      "outputs": [
        {
          "output_type": "stream",
          "name": "stdout",
          "text": [
            "Requirement already satisfied: openai in /usr/local/lib/python3.10/dist-packages (0.27.8)\n",
            "Requirement already satisfied: requests>=2.20 in /usr/local/lib/python3.10/dist-packages (from openai) (2.27.1)\n",
            "Requirement already satisfied: tqdm in /usr/local/lib/python3.10/dist-packages (from openai) (4.65.0)\n",
            "Requirement already satisfied: aiohttp in /usr/local/lib/python3.10/dist-packages (from openai) (3.8.5)\n",
            "Requirement already satisfied: urllib3<1.27,>=1.21.1 in /usr/local/lib/python3.10/dist-packages (from requests>=2.20->openai) (1.26.16)\n",
            "Requirement already satisfied: certifi>=2017.4.17 in /usr/local/lib/python3.10/dist-packages (from requests>=2.20->openai) (2023.7.22)\n",
            "Requirement already satisfied: charset-normalizer~=2.0.0 in /usr/local/lib/python3.10/dist-packages (from requests>=2.20->openai) (2.0.12)\n",
            "Requirement already satisfied: idna<4,>=2.5 in /usr/local/lib/python3.10/dist-packages (from requests>=2.20->openai) (3.4)\n",
            "Requirement already satisfied: attrs>=17.3.0 in /usr/local/lib/python3.10/dist-packages (from aiohttp->openai) (23.1.0)\n",
            "Requirement already satisfied: multidict<7.0,>=4.5 in /usr/local/lib/python3.10/dist-packages (from aiohttp->openai) (6.0.4)\n",
            "Requirement already satisfied: async-timeout<5.0,>=4.0.0a3 in /usr/local/lib/python3.10/dist-packages (from aiohttp->openai) (4.0.2)\n",
            "Requirement already satisfied: yarl<2.0,>=1.0 in /usr/local/lib/python3.10/dist-packages (from aiohttp->openai) (1.9.2)\n",
            "Requirement already satisfied: frozenlist>=1.1.1 in /usr/local/lib/python3.10/dist-packages (from aiohttp->openai) (1.4.0)\n",
            "Requirement already satisfied: aiosignal>=1.1.2 in /usr/local/lib/python3.10/dist-packages (from aiohttp->openai) (1.3.1)\n",
            "Requirement already satisfied: pillow in /usr/local/lib/python3.10/dist-packages (9.4.0)\n"
          ]
        }
      ]
    },
    {
      "cell_type": "code",
      "source": [
        "import openai\n",
        "\n",
        "# Replace this with your openai key\n",
        "openai.api_key = \"REPLACE\"\n",
        "\n",
        "### !!! remove the key before we publish"
      ],
      "metadata": {
        "id": "18jt7G0W6zkl"
      },
      "execution_count": null,
      "outputs": []
    },
    {
      "cell_type": "markdown",
      "source": [
        "Now, let's empower our AI bot with the ability to provide that writing feedback to the user."
      ],
      "metadata": {
        "id": "gOIgSnWk8oMi"
      }
    },
    {
      "cell_type": "code",
      "source": [
        "#@title\n",
        "import urllib.request\n",
        "from PIL import Image\n",
        "import matplotlib.pyplot as plt\n",
        "import matplotlib.image as mpimg\n",
        "\n",
        "#fix the grammar of the story\n",
        "if writingFeature == \"grammar\":\n",
        "  botResponse = openai.Completion.create(\n",
        "    model=\"text-davinci-003\",\n",
        "    prompt=\"Fix the grammar of this story. Do not change the story, only fix the grammar: \" + yourStory,\n",
        "    temperature=0.5,\n",
        "    max_tokens=120,\n",
        "    top_p=1.0,\n",
        "    frequency_penalty=0.8,\n",
        "    presence_penalty=0.0,\n",
        "  )\n",
        "\n",
        "  botResponse = botResponse[\"choices\"][0][\"text\"].strip()\n",
        "  print (botResponse)\n",
        "\n",
        "#generate the next line for this story\n",
        "elif writingFeature == \"nextline\":\n",
        "  botResponse = openai.Completion.create(\n",
        "    model=\"text-davinci-003\",\n",
        "    prompt=\"Suggest the next line for this story: \" + yourStory,\n",
        "    temperature=0.5,\n",
        "    max_tokens=120,\n",
        "    top_p=1.0,\n",
        "    frequency_penalty=0.8,\n",
        "    presence_penalty=0.0,\n",
        "  )\n",
        "\n",
        "  botResponse = botResponse[\"choices\"][0][\"text\"].strip()\n",
        "  print (botResponse)\n",
        "\n",
        "elif writingFeature == \"framing\":\n",
        "  botResponse = openai.Completion.create(\n",
        "    model=\"text-davinci-003\",\n",
        "    prompt=\"Fram this story differently with the same meaning: \" + yourStory,\n",
        "    temperature=0.5,\n",
        "    max_tokens=120,\n",
        "    top_p=1.0,\n",
        "    frequency_penalty=0.8,\n",
        "    presence_penalty=0.0,\n",
        "  )\n",
        "\n",
        "  botResponse = botResponse[\"choices\"][0][\"text\"].strip()\n",
        "  print (botResponse)\n",
        "\n",
        "elif writingFeature == \"direction\":\n",
        "  botResponse = openai.Completion.create(\n",
        "    model=\"text-davinci-003\",\n",
        "    prompt=\"Add a line to this story to change the direction of the story: \" + yourStory,\n",
        "    temperature=0.5,\n",
        "    max_tokens=120,\n",
        "    top_p=1.0,\n",
        "    frequency_penalty=0.8,\n",
        "    presence_penalty=0.0,\n",
        "  )\n",
        "\n",
        "  botResponse = botResponse[\"choices\"][0][\"text\"].strip()\n",
        "  print (botResponse)\n",
        "\n",
        "elif writingFeature == \"visualize\":\n",
        "\n",
        "  botResponse = openai.Completion.create(\n",
        "    model=\"text-davinci-003\",\n",
        "    prompt=\"Convert this story into a short description of what is happening visually. Frame it as a prompt to a text to image generation tool. Add some style features to the prompt. : \" + yourStory,\n",
        "    temperature=0.5,\n",
        "    max_tokens=120,\n",
        "    top_p=1.0,\n",
        "    frequency_penalty=0.8,\n",
        "    presence_penalty=0.0,\n",
        "  )\n",
        "  botResponse = botResponse[\"choices\"][0][\"text\"].strip()\n",
        "\n",
        "  response = openai.Image.create(\n",
        "  prompt = botResponse,\n",
        "  n=1,\n",
        "  size=\"1024x1024\"\n",
        "  )\n",
        "  image_url = response['data'][0]['url']\n",
        "\n",
        "  urllib.request.urlretrieve(\n",
        "  image_url,\n",
        "   \"result.png\")\n",
        "  img = Image.open(\"result.png\")\n",
        "  plt.imshow(img)\n",
        "  plt.axis('off')\n",
        "  plt.show()"
      ],
      "metadata": {
        "colab": {
          "base_uri": "https://localhost:8080/"
        },
        "id": "x7hknrFj68jS",
        "outputId": "a10e2fb2-4c97-4861-bf8a-5d754adc1ead"
      },
      "execution_count": null,
      "outputs": [
        {
          "output_type": "stream",
          "name": "stdout",
          "text": [
            "A chicken is crossing the road.\n"
          ]
        }
      ]
    },
    {
      "cell_type": "markdown",
      "source": [
        "#Your Project\n",
        "Now, develop a tool to support one of the teaching strategies we discussed in class.\n",
        "\n",
        "\n",
        "\n",
        "*   What teaching strategy do you want to target?\n",
        "*   What are the learning goals (e.g. collaboration)?\n",
        "*   How does your tool support your chosen strategy?\n"
      ],
      "metadata": {
        "id": "2DTbVVla3laY"
      }
    }
  ]
}